{
 "cells": [
  {
   "cell_type": "code",
   "execution_count": 1,
   "id": "73eb81e1",
   "metadata": {},
   "outputs": [],
   "source": [
    "# 1. Define a function which will return Max of three numbers"
   ]
  },
  {
   "cell_type": "code",
   "execution_count": 5,
   "id": "b14951b1",
   "metadata": {},
   "outputs": [],
   "source": [
    "def threenums(a,b,c):\n",
    "    if a>b or a>c:\n",
    "        return(a)\n",
    "    elif b>a or b>c:\n",
    "        return(b)\n",
    "    else:\n",
    "        c>a or c>b\n",
    "        return(c)"
   ]
  },
  {
   "cell_type": "code",
   "execution_count": 6,
   "id": "461e8bb5",
   "metadata": {},
   "outputs": [
    {
     "data": {
      "text/plain": [
       "6"
      ]
     },
     "execution_count": 6,
     "metadata": {},
     "output_type": "execute_result"
    }
   ],
   "source": [
    "threenums(5,6,7)"
   ]
  },
  {
   "cell_type": "code",
   "execution_count": null,
   "id": "2e018315",
   "metadata": {},
   "outputs": [],
   "source": []
  },
  {
   "cell_type": "code",
   "execution_count": 7,
   "id": "1a147f47",
   "metadata": {},
   "outputs": [],
   "source": [
    "# 2. Define a Python Function to reverse a string."
   ]
  },
  {
   "cell_type": "code",
   "execution_count": 9,
   "id": "62c519ff",
   "metadata": {},
   "outputs": [
    {
     "name": "stdout",
     "output_type": "stream",
     "text": [
      "Enter string :RAJKUMAR\n",
      "The reverse of a string is :RAMUKJAR\n"
     ]
    }
   ],
   "source": [
    "def reverse(x):\n",
    "    y=x[::-1]\n",
    "    return y\n",
    "x=input(\"Enter string :\")\n",
    "print(\"The reverse of a string is :{}\".format(reverse(x))) "
   ]
  },
  {
   "cell_type": "code",
   "execution_count": null,
   "id": "225795b1",
   "metadata": {},
   "outputs": [],
   "source": []
  },
  {
   "cell_type": "code",
   "execution_count": 10,
   "id": "4807e015",
   "metadata": {},
   "outputs": [],
   "source": [
    "# 3. Write a Python program to define a function that accepts 2 values and return its sum, subtraction and multiplication."
   ]
  },
  {
   "cell_type": "code",
   "execution_count": 18,
   "id": "543756cb",
   "metadata": {},
   "outputs": [],
   "source": [
    "def sums(x,y):\n",
    "    return(\"Add {}, Sub {}, Mul {}\".format((x+y),(x-y),(x*y)))"
   ]
  },
  {
   "cell_type": "code",
   "execution_count": 19,
   "id": "1ee2b8d0",
   "metadata": {},
   "outputs": [
    {
     "data": {
      "text/plain": [
       "'Add 9, Sub -1, Mul 20'"
      ]
     },
     "execution_count": 19,
     "metadata": {},
     "output_type": "execute_result"
    }
   ],
   "source": [
    "sums(4,5)"
   ]
  },
  {
   "cell_type": "code",
   "execution_count": null,
   "id": "a888a1bd",
   "metadata": {},
   "outputs": [],
   "source": []
  },
  {
   "cell_type": "code",
   "execution_count": 13,
   "id": "32a74ce7",
   "metadata": {},
   "outputs": [],
   "source": [
    "# 4. Define a function that accepts roll number and returns whether the student is present or absent."
   ]
  },
  {
   "cell_type": "code",
   "execution_count": 22,
   "id": "6f7cf824",
   "metadata": {},
   "outputs": [],
   "source": [
    "def Attendence(x):\n",
    "    present=[1,2,3,4,5,7,9,12,13,16,17,18,37,40]\n",
    "    if x in present:\n",
    "        return \"Student is present\"\n",
    "    else:\n",
    "        return \"Student is Absent\""
   ]
  },
  {
   "cell_type": "code",
   "execution_count": 23,
   "id": "07c23898",
   "metadata": {},
   "outputs": [
    {
     "data": {
      "text/plain": [
       "'Student is present'"
      ]
     },
     "execution_count": 23,
     "metadata": {},
     "output_type": "execute_result"
    }
   ],
   "source": [
    "Attendence(16)"
   ]
  },
  {
   "cell_type": "code",
   "execution_count": null,
   "id": "907ab552",
   "metadata": {},
   "outputs": [],
   "source": []
  },
  {
   "cell_type": "code",
   "execution_count": 24,
   "id": "234000a5",
   "metadata": {},
   "outputs": [],
   "source": [
    "# 5. Define a function in python that accepts n values and returns the maximum of n numbers"
   ]
  },
  {
   "cell_type": "code",
   "execution_count": 31,
   "id": "df9c9a3e",
   "metadata": {},
   "outputs": [],
   "source": [
    "def f1(*x):\n",
    "    max_num=0\n",
    "    for y in x:\n",
    "        if y>max_num:\n",
    "            max_num=y\n",
    "    return max_num"
   ]
  },
  {
   "cell_type": "code",
   "execution_count": 32,
   "id": "e10df3d6",
   "metadata": {},
   "outputs": [
    {
     "data": {
      "text/plain": [
       "9"
      ]
     },
     "execution_count": 32,
     "metadata": {},
     "output_type": "execute_result"
    }
   ],
   "source": [
    "f1(1,2,3,4,7,6,5,9,8,7,0)"
   ]
  },
  {
   "cell_type": "code",
   "execution_count": null,
   "id": "22481446",
   "metadata": {},
   "outputs": [],
   "source": []
  },
  {
   "cell_type": "code",
   "execution_count": 33,
   "id": "725a101c",
   "metadata": {},
   "outputs": [],
   "source": [
    "# 6. Define a function which counts vowels and consonant in a word. "
   ]
  },
  {
   "cell_type": "code",
   "execution_count": 44,
   "id": "b646d4f8",
   "metadata": {},
   "outputs": [],
   "source": [
    "def f1(x):\n",
    "    vowels=0\n",
    "    consonants=0\n",
    "    l=list(x)\n",
    "    for y in l:\n",
    "        if y==\"a\" or y==\"e\" or y==\"i\" or y==\"o\" or y==\"u\":\n",
    "            vowels+=1\n",
    "        else:\n",
    "            consonants+=1\n",
    "    return print(\"Number of Vowels= {}, Number of Consonants= {}\".format(vowels,consonants))"
   ]
  },
  {
   "cell_type": "code",
   "execution_count": 46,
   "id": "bff16489",
   "metadata": {},
   "outputs": [
    {
     "name": "stdout",
     "output_type": "stream",
     "text": [
      "Number of Vowels= 4, Number of Consonants= 6\n"
     ]
    }
   ],
   "source": [
    "f1(\"innomatics\")"
   ]
  },
  {
   "cell_type": "code",
   "execution_count": null,
   "id": "8ca76047",
   "metadata": {},
   "outputs": [],
   "source": []
  },
  {
   "cell_type": "code",
   "execution_count": 47,
   "id": "a08a1387",
   "metadata": {},
   "outputs": [],
   "source": [
    "# 7. Define a function that returns Factorial of a number"
   ]
  },
  {
   "cell_type": "code",
   "execution_count": 50,
   "id": "b214fc3c",
   "metadata": {},
   "outputs": [],
   "source": [
    "def factorial(n):\n",
    "    if n==1:\n",
    "        return 1\n",
    "    else:\n",
    "        return n*factorial(n-1)"
   ]
  },
  {
   "cell_type": "code",
   "execution_count": 49,
   "id": "721fdf88",
   "metadata": {},
   "outputs": [
    {
     "data": {
      "text/plain": [
       "3628800"
      ]
     },
     "execution_count": 49,
     "metadata": {},
     "output_type": "execute_result"
    }
   ],
   "source": [
    "factorial(10)"
   ]
  },
  {
   "cell_type": "code",
   "execution_count": null,
   "id": "bf3d5d4c",
   "metadata": {},
   "outputs": [],
   "source": []
  },
  {
   "cell_type": "code",
   "execution_count": 51,
   "id": "1fa81045",
   "metadata": {},
   "outputs": [],
   "source": [
    "# 8. Define a function that accepts radius and returns the area of a circle."
   ]
  },
  {
   "cell_type": "code",
   "execution_count": 52,
   "id": "ec7fb51c",
   "metadata": {},
   "outputs": [],
   "source": [
    "def area(r):\n",
    "    return print(\"Area of a circle of radius {} is {}\".format(r,(22/7)*r**2))"
   ]
  },
  {
   "cell_type": "code",
   "execution_count": 53,
   "id": "ad4132e6",
   "metadata": {},
   "outputs": [
    {
     "name": "stdout",
     "output_type": "stream",
     "text": [
      "Area of a circle of radius 6 is 113.14285714285714\n"
     ]
    }
   ],
   "source": [
    "area(6)"
   ]
  },
  {
   "cell_type": "code",
   "execution_count": null,
   "id": "9829bad6",
   "metadata": {},
   "outputs": [],
   "source": []
  },
  {
   "cell_type": "code",
   "execution_count": 54,
   "id": "1c3dc4d9",
   "metadata": {},
   "outputs": [],
   "source": [
    "# 9. Define a function that takes a number as a parameter and check the number is prime or not."
   ]
  },
  {
   "cell_type": "code",
   "execution_count": 55,
   "id": "323fd855",
   "metadata": {},
   "outputs": [],
   "source": [
    "def prime(n):\n",
    "    if n>1:\n",
    "        for y in range(2,n):\n",
    "            if n%y==0:\n",
    "                return \"Number is not Prime\"\n",
    "            else:\n",
    "                return \"Number is Prime\""
   ]
  },
  {
   "cell_type": "code",
   "execution_count": 63,
   "id": "d45fa69c",
   "metadata": {},
   "outputs": [
    {
     "data": {
      "text/plain": [
       "'Number is not Prime'"
      ]
     },
     "execution_count": 63,
     "metadata": {},
     "output_type": "execute_result"
    }
   ],
   "source": [
    "prime(4)"
   ]
  },
  {
   "cell_type": "code",
   "execution_count": null,
   "id": "ce99355d",
   "metadata": {},
   "outputs": [],
   "source": []
  },
  {
   "cell_type": "code",
   "execution_count": 64,
   "id": "3fc3b1e6",
   "metadata": {},
   "outputs": [],
   "source": [
    "#10. Mary wants to run a 25-mile marathon. When she attempts to sign up for the marathon, she notices the sign-up sheet\n",
    "#doesn't directly state the marathon's length. Instead, the marathon's length is listed in small, different portions. \n",
    "#Help Mary find out how long the marathon actually is. So create a function that\n",
    "#** Return True if the marathon is 25 miles long, otherwise, return False."
   ]
  },
  {
   "cell_type": "code",
   "execution_count": 65,
   "id": "5458863d",
   "metadata": {},
   "outputs": [],
   "source": [
    "def marathon(n):\n",
    "    total=0\n",
    "    for y in n:\n",
    "        total=total+abs(y)\n",
    "    if total==25:\n",
    "        return True\n",
    "    else:\n",
    "        return False"
   ]
  },
  {
   "cell_type": "code",
   "execution_count": 66,
   "id": "22c52120",
   "metadata": {},
   "outputs": [
    {
     "data": {
      "text/plain": [
       "False"
      ]
     },
     "execution_count": 66,
     "metadata": {},
     "output_type": "execute_result"
    }
   ],
   "source": [
    "marathon([1,2,3,4,5,6,7])"
   ]
  },
  {
   "cell_type": "code",
   "execution_count": 67,
   "id": "309b8f99",
   "metadata": {},
   "outputs": [
    {
     "data": {
      "text/plain": [
       "True"
      ]
     },
     "execution_count": 67,
     "metadata": {},
     "output_type": "execute_result"
    }
   ],
   "source": [
    "marathon([10,5,5,2,3])"
   ]
  },
  {
   "cell_type": "code",
   "execution_count": null,
   "id": "e2f6bad7",
   "metadata": {},
   "outputs": [],
   "source": []
  },
  {
   "cell_type": "code",
   "execution_count": 68,
   "id": "9c3e5409",
   "metadata": {},
   "outputs": [],
   "source": [
    "#11. Create a function that takes a number and returns True if the number is automorphic, False if it isn't.\n",
    "#** number n is automorphic if n^2 ends in n."
   ]
  },
  {
   "cell_type": "code",
   "execution_count": 69,
   "id": "aa4333fc",
   "metadata": {},
   "outputs": [],
   "source": [
    "def autoMorphic(n):\n",
    "    Dn=str(n**2)\n",
    "    if Dn[-1]==str(n):\n",
    "        return True\n",
    "    else:\n",
    "        return False  "
   ]
  },
  {
   "cell_type": "code",
   "execution_count": 70,
   "id": "25609264",
   "metadata": {},
   "outputs": [
    {
     "data": {
      "text/plain": [
       "True"
      ]
     },
     "execution_count": 70,
     "metadata": {},
     "output_type": "execute_result"
    }
   ],
   "source": [
    "autoMorphic(6)"
   ]
  },
  {
   "cell_type": "code",
   "execution_count": 74,
   "id": "2b1ef784",
   "metadata": {},
   "outputs": [
    {
     "data": {
      "text/plain": [
       "False"
      ]
     },
     "execution_count": 74,
     "metadata": {},
     "output_type": "execute_result"
    }
   ],
   "source": [
    "autoMorphic(7)"
   ]
  },
  {
   "cell_type": "code",
   "execution_count": 75,
   "id": "88965e45",
   "metadata": {},
   "outputs": [
    {
     "data": {
      "text/plain": [
       "False"
      ]
     },
     "execution_count": 75,
     "metadata": {},
     "output_type": "execute_result"
    }
   ],
   "source": [
    "autoMorphic(-5)"
   ]
  },
  {
   "cell_type": "code",
   "execution_count": null,
   "id": "86d156e3",
   "metadata": {},
   "outputs": [],
   "source": []
  },
  {
   "cell_type": "code",
   "execution_count": 76,
   "id": "a71f5c97",
   "metadata": {},
   "outputs": [],
   "source": [
    "#12) Create a function, that will take given a, b, c, and do the following:\n",
    "#Add a to itself b times and Check if the result is divisible by c.\n",
    "#and return true if it is divisible by c or false"
   ]
  },
  {
   "cell_type": "code",
   "execution_count": 78,
   "id": "53f93b39",
   "metadata": {},
   "outputs": [],
   "source": [
    "def operation(a,b,c):\n",
    "    total=0\n",
    "    for y in range(b):\n",
    "        total=a+total\n",
    "    if total//c==1:\n",
    "        return True\n",
    "    else: \n",
    "        return False"
   ]
  },
  {
   "cell_type": "code",
   "execution_count": 79,
   "id": "bb7b92c3",
   "metadata": {},
   "outputs": [
    {
     "data": {
      "text/plain": [
       "False"
      ]
     },
     "execution_count": 79,
     "metadata": {},
     "output_type": "execute_result"
    }
   ],
   "source": [
    "operation(2,2,1)"
   ]
  },
  {
   "cell_type": "code",
   "execution_count": 80,
   "id": "73e81108",
   "metadata": {},
   "outputs": [
    {
     "data": {
      "text/plain": [
       "True"
      ]
     },
     "execution_count": 80,
     "metadata": {},
     "output_type": "execute_result"
    }
   ],
   "source": [
    "operation(1,2,2)"
   ]
  },
  {
   "cell_type": "code",
   "execution_count": 81,
   "id": "dccb07ae",
   "metadata": {},
   "outputs": [
    {
     "data": {
      "text/plain": [
       "True"
      ]
     },
     "execution_count": 81,
     "metadata": {},
     "output_type": "execute_result"
    }
   ],
   "source": [
    "operation(2,2,4)"
   ]
  },
  {
   "cell_type": "code",
   "execution_count": 82,
   "id": "8bddd988",
   "metadata": {},
   "outputs": [],
   "source": [
    "#13) Create a function that changes specific words into emoticons. Given a sentence as a string, \n",
    "#replace the words smile, grin, sad and mad with their corresponding emoticons.\n",
    "#word emoticon\n",
    "#smile :D\n",
    "#grin :)\n",
    "#sad :(\n",
    "#mad :P"
   ]
  },
  {
   "cell_type": "code",
   "execution_count": 83,
   "id": "49ecb7de",
   "metadata": {},
   "outputs": [],
   "source": [
    "def emoticons(s):\n",
    "    l=s.split(\" \")\n",
    "    for y in range(len(l)):\n",
    "        if l[y]==\"smile\":\n",
    "            l[y]=\":D\"\n",
    "        elif l[y]==\"grin\":\n",
    "            l[y]=\":)\"\n",
    "        elif l[y]==\"sad\":\n",
    "            l[y]=\":(\"\n",
    "        elif l[y]==\"mad\":\n",
    "            l[y]=\":P\"\n",
    "    return \" \".join(l)    "
   ]
  },
  {
   "cell_type": "code",
   "execution_count": 84,
   "id": "fb81c28f",
   "metadata": {},
   "outputs": [
    {
     "data": {
      "text/plain": [
       "'Make me :D'"
      ]
     },
     "execution_count": 84,
     "metadata": {},
     "output_type": "execute_result"
    }
   ],
   "source": [
    "emoticons(\"Make me smile\")"
   ]
  },
  {
   "cell_type": "code",
   "execution_count": 85,
   "id": "8cbaf636",
   "metadata": {},
   "outputs": [
    {
     "data": {
      "text/plain": [
       "'Make me :)'"
      ]
     },
     "execution_count": 85,
     "metadata": {},
     "output_type": "execute_result"
    }
   ],
   "source": [
    "emoticons(\"Make me grin\")"
   ]
  },
  {
   "cell_type": "code",
   "execution_count": 86,
   "id": "42a95d1e",
   "metadata": {},
   "outputs": [
    {
     "data": {
      "text/plain": [
       "'Make me :('"
      ]
     },
     "execution_count": 86,
     "metadata": {},
     "output_type": "execute_result"
    }
   ],
   "source": [
    "emoticons(\"Make me sad\")"
   ]
  },
  {
   "cell_type": "code",
   "execution_count": 87,
   "id": "96cc53a2",
   "metadata": {},
   "outputs": [
    {
     "data": {
      "text/plain": [
       "'Make me :P'"
      ]
     },
     "execution_count": 87,
     "metadata": {},
     "output_type": "execute_result"
    }
   ],
   "source": [
    "emoticons(\"Make me mad\")"
   ]
  },
  {
   "cell_type": "code",
   "execution_count": null,
   "id": "2b6902a5",
   "metadata": {},
   "outputs": [],
   "source": []
  },
  {
   "cell_type": "code",
   "execution_count": 88,
   "id": "a50dcbf1",
   "metadata": {},
   "outputs": [],
   "source": [
    "#14) Write a Python program to square and cube every number in a given list of integers using Lambda"
   ]
  },
  {
   "cell_type": "code",
   "execution_count": 93,
   "id": "7c455ddd",
   "metadata": {},
   "outputs": [
    {
     "data": {
      "text/plain": [
       "[1, 4, 9, 16, 25, 36, 49, 64, 81, 100, 121, 144]"
      ]
     },
     "execution_count": 93,
     "metadata": {},
     "output_type": "execute_result"
    }
   ],
   "source": [
    "list(map(lambda x:x**2,range(1,13)))"
   ]
  },
  {
   "cell_type": "code",
   "execution_count": 95,
   "id": "3d07135b",
   "metadata": {},
   "outputs": [
    {
     "data": {
      "text/plain": [
       "[1, 8, 27, 64, 125, 216, 343, 512, 729, 1000, 1331, 1728]"
      ]
     },
     "execution_count": 95,
     "metadata": {},
     "output_type": "execute_result"
    }
   ],
   "source": [
    "list(map(lambda x:x**3,range(1,13)))"
   ]
  },
  {
   "cell_type": "code",
   "execution_count": null,
   "id": "b6842da6",
   "metadata": {},
   "outputs": [],
   "source": []
  },
  {
   "cell_type": "code",
   "execution_count": 96,
   "id": "37cc6a1a",
   "metadata": {},
   "outputs": [],
   "source": [
    "# 15) Write a Python program to check whether a given string is number or not using Lambda"
   ]
  },
  {
   "cell_type": "code",
   "execution_count": 97,
   "id": "789ffb3a",
   "metadata": {},
   "outputs": [],
   "source": [
    "q=lambda s:s.isdigit()"
   ]
  },
  {
   "cell_type": "code",
   "execution_count": 98,
   "id": "8e311312",
   "metadata": {},
   "outputs": [
    {
     "data": {
      "text/plain": [
       "False"
      ]
     },
     "execution_count": 98,
     "metadata": {},
     "output_type": "execute_result"
    }
   ],
   "source": [
    "q(\"raj\")"
   ]
  },
  {
   "cell_type": "code",
   "execution_count": 99,
   "id": "cfed6739",
   "metadata": {},
   "outputs": [
    {
     "data": {
      "text/plain": [
       "True"
      ]
     },
     "execution_count": 99,
     "metadata": {},
     "output_type": "execute_result"
    }
   ],
   "source": [
    "q(\"197\")"
   ]
  },
  {
   "cell_type": "code",
   "execution_count": 100,
   "id": "43988636",
   "metadata": {},
   "outputs": [
    {
     "data": {
      "text/plain": [
       "False"
      ]
     },
     "execution_count": 100,
     "metadata": {},
     "output_type": "execute_result"
    }
   ],
   "source": [
    "q(\"raj123\")"
   ]
  },
  {
   "cell_type": "code",
   "execution_count": null,
   "id": "a3709cb0",
   "metadata": {},
   "outputs": [],
   "source": []
  }
 ],
 "metadata": {
  "kernelspec": {
   "display_name": "Python 3 (ipykernel)",
   "language": "python",
   "name": "python3"
  },
  "language_info": {
   "codemirror_mode": {
    "name": "ipython",
    "version": 3
   },
   "file_extension": ".py",
   "mimetype": "text/x-python",
   "name": "python",
   "nbconvert_exporter": "python",
   "pygments_lexer": "ipython3",
   "version": "3.9.7"
  }
 },
 "nbformat": 4,
 "nbformat_minor": 5
}
